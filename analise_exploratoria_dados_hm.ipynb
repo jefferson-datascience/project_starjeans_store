{
 "cells": [
  {
   "cell_type": "markdown",
   "id": "ceabde5f",
   "metadata": {
    "heading_collapsed": true
   },
   "source": [
    "# 0.0 - Imports"
   ]
  },
  {
   "cell_type": "code",
   "execution_count": 66,
   "id": "0a3ae654",
   "metadata": {
    "ExecuteTime": {
     "end_time": "2023-02-11T15:57:50.170856Z",
     "start_time": "2023-02-11T15:57:50.160918Z"
    },
    "hidden": true
   },
   "outputs": [],
   "source": [
    "# Bibliotecas\n",
    "\n",
    "import pandas  as pd\n",
    "import numpy   as np\n",
    "import seaborn as sns\n",
    "\n",
    "from matplotlib      import pyplot as plt\n",
    "from IPython.display import HTML"
   ]
  },
  {
   "cell_type": "markdown",
   "id": "70b0574f",
   "metadata": {
    "heading_collapsed": true,
    "hidden": true
   },
   "source": [
    "## 0.1 - Helper Functions"
   ]
  },
  {
   "cell_type": "code",
   "execution_count": 67,
   "id": "d7fc9065",
   "metadata": {
    "ExecuteTime": {
     "end_time": "2023-02-11T15:58:14.915866Z",
     "start_time": "2023-02-11T15:58:14.882987Z"
    },
    "hidden": true
   },
   "outputs": [
    {
     "data": {
      "text/html": [
       "<style>.container {width:93% ! important; }</style>"
      ],
      "text/plain": [
       "<IPython.core.display.HTML object>"
      ]
     },
     "metadata": {},
     "output_type": "display_data"
    }
   ],
   "source": [
    "# Configurações de Layout\n",
    "def jupyter_settings():\n",
    "    %matplotlib inline\n",
    "    #%pylab inline\n",
    "    \n",
    "    plt.style.use('ggplot')\n",
    "    plt.rcParams['figure.figsize'] = (24,9)\n",
    "    plt.rcParams['font.size'] = 24\n",
    "    \n",
    "    display( HTML('<style>.container {width:93% ! important; }</style>') )\n",
    "    pd.options.display.max_columns = None\n",
    "    pd.options.display.max_rows = None\n",
    "    pd.set_option('display.expand_frame_repr', False)\n",
    "    \n",
    "    sns.set()\n",
    "    \n",
    "jupyter_settings()\n",
    "\n",
    "def show_values(axs, orient=\"v\", space=.01):\n",
    "    def _single(ax):\n",
    "        if orient == \"v\":\n",
    "            for p in ax.patches:\n",
    "                _x = p.get_x() + p.get_width() / 2\n",
    "                _y = p.get_y() + p.get_height() + (p.get_height()*0.01)\n",
    "                value = '{:.1f}'.format(p.get_height())\n",
    "                ax.text(_x, _y, value, ha=\"center\") \n",
    "        elif orient == \"h\":\n",
    "            for p in ax.patches:\n",
    "                _x = p.get_x() + p.get_width() + float(space)\n",
    "                _y = p.get_y() + p.get_height() - (p.get_height()*0.5)\n",
    "                value = '{:.1f}'.format(p.get_width())\n",
    "                ax.text(_x, _y, value, ha=\"left\")\n",
    "\n",
    "    if isinstance(axs, np.ndarray):\n",
    "        for idx, ax in np.ndenumerate(axs):\n",
    "            _single(ax)\n",
    "    else:\n",
    "        _single(axs)"
   ]
  },
  {
   "cell_type": "markdown",
   "id": "8fa48857",
   "metadata": {
    "heading_collapsed": true,
    "hidden": true
   },
   "source": [
    "## 0.2  - Carregamento dos Dados"
   ]
  },
  {
   "cell_type": "code",
   "execution_count": 8,
   "id": "bf3704df",
   "metadata": {
    "ExecuteTime": {
     "end_time": "2023-02-11T14:01:44.354406Z",
     "start_time": "2023-02-11T14:01:44.044274Z"
    },
    "hidden": true
   },
   "outputs": [
    {
     "data": {
      "text/html": [
       "<div>\n",
       "<style scoped>\n",
       "    .dataframe tbody tr th:only-of-type {\n",
       "        vertical-align: middle;\n",
       "    }\n",
       "\n",
       "    .dataframe tbody tr th {\n",
       "        vertical-align: top;\n",
       "    }\n",
       "\n",
       "    .dataframe thead th {\n",
       "        text-align: right;\n",
       "    }\n",
       "</style>\n",
       "<table border=\"1\" class=\"dataframe\">\n",
       "  <thead>\n",
       "    <tr style=\"text-align: right;\">\n",
       "      <th></th>\n",
       "      <th>product_id</th>\n",
       "      <th>style_id</th>\n",
       "      <th>color_id</th>\n",
       "      <th>product_name</th>\n",
       "      <th>color_name</th>\n",
       "      <th>fit</th>\n",
       "      <th>product_price</th>\n",
       "      <th>size_number</th>\n",
       "      <th>size_model</th>\n",
       "      <th>cotton</th>\n",
       "      <th>polyester</th>\n",
       "      <th>spandex</th>\n",
       "      <th>scrapy_datetime</th>\n",
       "    </tr>\n",
       "  </thead>\n",
       "  <tbody>\n",
       "    <tr>\n",
       "      <th>0</th>\n",
       "      <td>1024256003</td>\n",
       "      <td>1024256</td>\n",
       "      <td>3</td>\n",
       "      <td>slim_jeans</td>\n",
       "      <td>light_denim_blue</td>\n",
       "      <td>slim_fit</td>\n",
       "      <td>19.99</td>\n",
       "      <td>187.0</td>\n",
       "      <td>31/32</td>\n",
       "      <td>0.99</td>\n",
       "      <td>0.65</td>\n",
       "      <td>0.01</td>\n",
       "      <td>2022-08-20 16:48:24</td>\n",
       "    </tr>\n",
       "    <tr>\n",
       "      <th>1</th>\n",
       "      <td>1024256001</td>\n",
       "      <td>1024256</td>\n",
       "      <td>1</td>\n",
       "      <td>slim_jeans</td>\n",
       "      <td>black</td>\n",
       "      <td>slim_fit</td>\n",
       "      <td>19.99</td>\n",
       "      <td>185.0</td>\n",
       "      <td>31/32</td>\n",
       "      <td>0.99</td>\n",
       "      <td>0.65</td>\n",
       "      <td>0.01</td>\n",
       "      <td>2022-08-20 16:48:24</td>\n",
       "    </tr>\n",
       "    <tr>\n",
       "      <th>2</th>\n",
       "      <td>1024256002</td>\n",
       "      <td>1024256</td>\n",
       "      <td>2</td>\n",
       "      <td>slim_jeans</td>\n",
       "      <td>light_denim_blue</td>\n",
       "      <td>slim_fit</td>\n",
       "      <td>19.99</td>\n",
       "      <td>189.0</td>\n",
       "      <td>31/32</td>\n",
       "      <td>0.99</td>\n",
       "      <td>0.65</td>\n",
       "      <td>0.01</td>\n",
       "      <td>2022-08-20 16:48:24</td>\n",
       "    </tr>\n",
       "    <tr>\n",
       "      <th>3</th>\n",
       "      <td>1024256004</td>\n",
       "      <td>1024256</td>\n",
       "      <td>4</td>\n",
       "      <td>slim_jeans</td>\n",
       "      <td>denim_blue</td>\n",
       "      <td>slim_fit</td>\n",
       "      <td>19.99</td>\n",
       "      <td>NaN</td>\n",
       "      <td>NaN</td>\n",
       "      <td>0.99</td>\n",
       "      <td>0.65</td>\n",
       "      <td>0.01</td>\n",
       "      <td>2022-08-20 16:48:24</td>\n",
       "    </tr>\n",
       "    <tr>\n",
       "      <th>4</th>\n",
       "      <td>1024256005</td>\n",
       "      <td>1024256</td>\n",
       "      <td>5</td>\n",
       "      <td>slim_jeans</td>\n",
       "      <td>dark_blue</td>\n",
       "      <td>slim_fit</td>\n",
       "      <td>19.99</td>\n",
       "      <td>183.0</td>\n",
       "      <td>31/32</td>\n",
       "      <td>0.99</td>\n",
       "      <td>0.65</td>\n",
       "      <td>0.01</td>\n",
       "      <td>2022-08-20 16:48:24</td>\n",
       "    </tr>\n",
       "  </tbody>\n",
       "</table>\n",
       "</div>"
      ],
      "text/plain": [
       "   product_id  style_id  color_id product_name        color_name       fit  product_price  size_number size_model  cotton  polyester  spandex      scrapy_datetime\n",
       "0  1024256003   1024256         3   slim_jeans  light_denim_blue  slim_fit          19.99        187.0      31/32    0.99       0.65     0.01  2022-08-20 16:48:24\n",
       "1  1024256001   1024256         1   slim_jeans             black  slim_fit          19.99        185.0      31/32    0.99       0.65     0.01  2022-08-20 16:48:24\n",
       "2  1024256002   1024256         2   slim_jeans  light_denim_blue  slim_fit          19.99        189.0      31/32    0.99       0.65     0.01  2022-08-20 16:48:24\n",
       "3  1024256004   1024256         4   slim_jeans        denim_blue  slim_fit          19.99          NaN        NaN    0.99       0.65     0.01  2022-08-20 16:48:24\n",
       "4  1024256005   1024256         5   slim_jeans         dark_blue  slim_fit          19.99        183.0      31/32    0.99       0.65     0.01  2022-08-20 16:48:24"
      ]
     },
     "execution_count": 8,
     "metadata": {},
     "output_type": "execute_result"
    }
   ],
   "source": [
    "# Carregamento dos Dados\n",
    "df_raw = pd.read_csv('vitrine_hm.csv')\n",
    "\n",
    "# Exibição\n",
    "df_raw.head()"
   ]
  },
  {
   "cell_type": "markdown",
   "id": "5c899ae2",
   "metadata": {},
   "source": [
    "# 1.0 - Descrição dos Dados"
   ]
  },
  {
   "cell_type": "code",
   "execution_count": 11,
   "id": "9e02286a",
   "metadata": {
    "ExecuteTime": {
     "end_time": "2023-02-11T14:03:01.263843Z",
     "start_time": "2023-02-11T14:03:01.246924Z"
    }
   },
   "outputs": [],
   "source": [
    "df1 = df_raw.copy()"
   ]
  },
  {
   "cell_type": "markdown",
   "id": "b3bb6070",
   "metadata": {
    "heading_collapsed": true
   },
   "source": [
    "## 1.1 - Atributos "
   ]
  },
  {
   "cell_type": "markdown",
   "id": "9bde7c57",
   "metadata": {
    "ExecuteTime": {
     "end_time": "2023-02-11T14:03:01.798695Z",
     "start_time": "2023-02-11T14:03:01.764504Z"
    },
    "hidden": true
   },
   "source": [
    "**product_id** - Identificador do Produto.\n",
    "\n",
    "**style_id** - Identificador do estilo da calça.\n",
    "\n",
    "**color_id** - Identificador da cor.\n",
    "\n",
    "**product_name** - Nome do Produto.\n",
    "\n",
    "**fit** - Modelo da calça.\n",
    "\n",
    "**product_price** - Preço da calça.\n",
    "\n",
    "**size_number** - Tamanho das calças.\n",
    "\n",
    "**size_model** - Tamanho da calça modelo.\n",
    "\n",
    "**cotton** - Porcentagem de algodão na composição da calça.\n",
    "\n",
    "**polyester** - Porcentagem de poliester na composição da calça.\n",
    "\n",
    "**spandex** - Porcentagem de spandex na composição da calça.\n",
    "\n",
    "**scrapy_datetime** - Horas e data da última vez que foi extraído os dados do site."
   ]
  },
  {
   "cell_type": "markdown",
   "id": "df961e15",
   "metadata": {
    "heading_collapsed": true
   },
   "source": [
    "## 1.2 - Dimensão dos Dados"
   ]
  },
  {
   "cell_type": "code",
   "execution_count": 15,
   "id": "2a19fc76",
   "metadata": {
    "ExecuteTime": {
     "end_time": "2023-02-11T14:11:09.309892Z",
     "start_time": "2023-02-11T14:11:09.288949Z"
    },
    "hidden": true
   },
   "outputs": [
    {
     "name": "stdout",
     "output_type": "stream",
     "text": [
      "Quantidade de Linhas: 369\n",
      "Quantidade de Colunas 13\n"
     ]
    }
   ],
   "source": [
    "print('Quantidade de Linhas: {}'.format(df1.shape[0]))\n",
    "print('Quantidade de Colunas {}'.format(df1.shape[1]))"
   ]
  },
  {
   "cell_type": "markdown",
   "id": "fb1b8a66",
   "metadata": {
    "ExecuteTime": {
     "end_time": "2023-02-11T14:12:26.758197Z",
     "start_time": "2023-02-11T14:12:26.741240Z"
    },
    "heading_collapsed": true
   },
   "source": [
    "## 1.3 - Estatística Descritiva dos Dados "
   ]
  },
  {
   "cell_type": "code",
   "execution_count": 21,
   "id": "7393ec60",
   "metadata": {
    "ExecuteTime": {
     "end_time": "2023-02-11T14:16:44.737937Z",
     "start_time": "2023-02-11T14:16:44.692057Z"
    },
    "hidden": true
   },
   "outputs": [
    {
     "data": {
      "text/html": [
       "<div>\n",
       "<style scoped>\n",
       "    .dataframe tbody tr th:only-of-type {\n",
       "        vertical-align: middle;\n",
       "    }\n",
       "\n",
       "    .dataframe tbody tr th {\n",
       "        vertical-align: top;\n",
       "    }\n",
       "\n",
       "    .dataframe thead th {\n",
       "        text-align: right;\n",
       "    }\n",
       "</style>\n",
       "<table border=\"1\" class=\"dataframe\">\n",
       "  <thead>\n",
       "    <tr style=\"text-align: right;\">\n",
       "      <th></th>\n",
       "      <th>atributos</th>\n",
       "      <th>minimo</th>\n",
       "      <th>maximo</th>\n",
       "      <th>intervalo</th>\n",
       "      <th>media</th>\n",
       "      <th>mediana</th>\n",
       "      <th>desvio_padrao</th>\n",
       "      <th>skewness</th>\n",
       "      <th>kurtosis</th>\n",
       "    </tr>\n",
       "  </thead>\n",
       "  <tbody>\n",
       "    <tr>\n",
       "      <th>0</th>\n",
       "      <td>product_price</td>\n",
       "      <td>7.99</td>\n",
       "      <td>49.99</td>\n",
       "      <td>42.00</td>\n",
       "      <td>29.689187</td>\n",
       "      <td>29.99</td>\n",
       "      <td>10.465016</td>\n",
       "      <td>-0.001462</td>\n",
       "      <td>-0.872038</td>\n",
       "    </tr>\n",
       "    <tr>\n",
       "      <th>1</th>\n",
       "      <td>size_number</td>\n",
       "      <td>176.00</td>\n",
       "      <td>189.00</td>\n",
       "      <td>13.00</td>\n",
       "      <td>184.794595</td>\n",
       "      <td>NaN</td>\n",
       "      <td>2.411901</td>\n",
       "      <td>-0.760989</td>\n",
       "      <td>2.029008</td>\n",
       "    </tr>\n",
       "    <tr>\n",
       "      <th>2</th>\n",
       "      <td>cotton</td>\n",
       "      <td>0.77</td>\n",
       "      <td>1.00</td>\n",
       "      <td>0.23</td>\n",
       "      <td>0.970217</td>\n",
       "      <td>0.99</td>\n",
       "      <td>0.061828</td>\n",
       "      <td>-2.486836</td>\n",
       "      <td>4.700553</td>\n",
       "    </tr>\n",
       "    <tr>\n",
       "      <th>3</th>\n",
       "      <td>polyester</td>\n",
       "      <td>0.00</td>\n",
       "      <td>1.00</td>\n",
       "      <td>1.00</td>\n",
       "      <td>0.370081</td>\n",
       "      <td>0.63</td>\n",
       "      <td>0.340324</td>\n",
       "      <td>0.066026</td>\n",
       "      <td>-1.625747</td>\n",
       "    </tr>\n",
       "    <tr>\n",
       "      <th>4</th>\n",
       "      <td>spandex</td>\n",
       "      <td>0.00</td>\n",
       "      <td>0.02</td>\n",
       "      <td>0.02</td>\n",
       "      <td>0.010488</td>\n",
       "      <td>0.01</td>\n",
       "      <td>0.007456</td>\n",
       "      <td>-0.079184</td>\n",
       "      <td>-1.198394</td>\n",
       "    </tr>\n",
       "  </tbody>\n",
       "</table>\n",
       "</div>"
      ],
      "text/plain": [
       "       atributos  minimo  maximo  intervalo       media  mediana  desvio_padrao  skewness  kurtosis\n",
       "0  product_price    7.99   49.99      42.00   29.689187    29.99      10.465016 -0.001462 -0.872038\n",
       "1    size_number  176.00  189.00      13.00  184.794595      NaN       2.411901 -0.760989  2.029008\n",
       "2         cotton    0.77    1.00       0.23    0.970217     0.99       0.061828 -2.486836  4.700553\n",
       "3      polyester    0.00    1.00       1.00    0.370081     0.63       0.340324  0.066026 -1.625747\n",
       "4        spandex    0.00    0.02       0.02    0.010488     0.01       0.007456 -0.079184 -1.198394"
      ]
     },
     "execution_count": 21,
     "metadata": {},
     "output_type": "execute_result"
    }
   ],
   "source": [
    "# Selecionando somente os atributos numéricos\n",
    "num_attributes = df1.select_dtypes(include=['int64', 'float64']).copy()\n",
    "\n",
    "num_attributes = num_attributes[['product_price', 'size_number', 'cotton', 'polyester', 'spandex']].copy()\n",
    "\n",
    "# ------------ Tendências Centrais -----------------------------------\n",
    "\n",
    "# Média\n",
    "mean = pd.DataFrame(num_attributes.apply(np.mean)).T\n",
    "\n",
    "# Mediana\n",
    "median = pd.DataFrame(num_attributes.apply(np.median)).T\n",
    "\n",
    "\n",
    "# ------------ Tendências de Dispersão -------------------------------\n",
    "\n",
    "# Máximo\n",
    "maximo = pd.DataFrame(num_attributes.apply(np.max)).T\n",
    "\n",
    "# Mínimo\n",
    "minimo = pd.DataFrame(num_attributes.apply(np.min)).T\n",
    "\n",
    "# Intervalo(Range)\n",
    "intervalo = pd.DataFrame(num_attributes.apply(lambda x: x.max() - x.min())).T\n",
    "\n",
    "# Desvio Padrão\n",
    "desvio = pd.DataFrame(num_attributes.apply(np.std)).T\n",
    "\n",
    "# Skewness\n",
    "skew = pd.DataFrame(num_attributes.apply(lambda x: x.skew())).T\n",
    "\n",
    "# Kurtosis\n",
    "kurtosis = pd.DataFrame(num_attributes.apply(lambda x: x.kurtosis())).T\n",
    "\n",
    "\n",
    "# ---------------------- Construção da Tabela de Estatística Descritiva -------------------------------\n",
    "\n",
    "# Concatenação das Tabela\n",
    "tabela_descritiva = pd.concat([minimo, maximo, intervalo, mean, median, desvio, skew, kurtosis]).T.reset_index()\n",
    "tabela_descritiva.columns = ['atributos', 'minimo', 'maximo', 'intervalo', 'media', \n",
    "                             'mediana', 'desvio_padrao', 'skewness', 'kurtosis']\n",
    "\n",
    "# Exibição da tabela descritiva\n",
    "tabela_descritiva"
   ]
  },
  {
   "cell_type": "markdown",
   "id": "b65f3822",
   "metadata": {},
   "source": [
    "# 2.0 - Análise Exploratória dos Dados"
   ]
  },
  {
   "cell_type": "code",
   "execution_count": 22,
   "id": "757d2faa",
   "metadata": {
    "ExecuteTime": {
     "end_time": "2023-02-11T14:18:59.274384Z",
     "start_time": "2023-02-11T14:18:59.258395Z"
    }
   },
   "outputs": [],
   "source": [
    "df2 = df1.copy()"
   ]
  },
  {
   "cell_type": "markdown",
   "id": "a5ec1e07",
   "metadata": {},
   "source": [
    "## 2.1 - Preço Médio do Modelo das Calças"
   ]
  },
  {
   "cell_type": "code",
   "execution_count": 72,
   "id": "c49d6e25",
   "metadata": {
    "ExecuteTime": {
     "end_time": "2023-02-11T16:36:39.704049Z",
     "start_time": "2023-02-11T16:36:39.505578Z"
    }
   },
   "outputs": [
    {
     "data": {
      "image/png": "[encoded data removed]",
      "text/plain": [
       "<Figure size 1728x648 with 1 Axes>"
      ]
     },
     "metadata": {},
     "output_type": "display_data"
    }
   ],
   "source": [
    "# Agrupar os preços e obter o preço médio.\n",
    "df_preco_medio = (df2[['fit', 'product_price']].groupby('fit')\n",
    "                                               .mean()\n",
    "                                               .reset_index()\n",
    "                                               .rename(columns = {'fit':'Modelo de Calça', 'product_price':'Preço Médio'}))\n",
    "\n",
    "# Ajuste da coluna de preço\n",
    "df_preco_medio['Preço Médio'] = np.round(df_preco_medio['Preço Médio'], 2)\n",
    "\n",
    "# Plotagem do Gráfico\n",
    "grafico_preco_mediano_hm = sns.barplot(x=df_preco_medio['Modelo de Calça'], y=df_preco_medio['Preço Médio'], data=df_preco_medio);\n",
    "\n",
    "# Título do Gráfico\n",
    "plt.title('Preço Médio do Modelo das Calças da H&M');\n",
    "plt.ylabel('Preço Médio - US$')\n",
    "show_values(grafico_preco_mediano_hm)"
   ]
  },
  {
   "cell_type": "markdown",
   "id": "234d70a7",
   "metadata": {},
   "source": [
    "## 2.2 - Preço Máximo do Modelo das Calças"
   ]
  },
  {
   "cell_type": "code",
   "execution_count": 71,
   "id": "9295381f",
   "metadata": {
    "ExecuteTime": {
     "end_time": "2023-02-11T16:34:11.744242Z",
     "start_time": "2023-02-11T16:34:11.529814Z"
    }
   },
   "outputs": [
    {
     "data": {
      "image/png": "[encoded data removed]",
      "text/plain": [
       "<Figure size 1728x648 with 1 Axes>"
      ]
     },
     "metadata": {},
     "output_type": "display_data"
    }
   ],
   "source": [
    "# Agrupar os preços e obter o preço médio.\n",
    "df_preco_maximo = (df2[['fit', 'product_price']].groupby('fit')\n",
    "                                               .max()\n",
    "                                               .reset_index()\n",
    "                                               .rename(columns = {'fit':'Modelo de Calça', 'product_price':'Preço Máximo'}))\n",
    "\n",
    "# Ajuste da coluna de preço\n",
    "df_preco_maximo['Preço Máximo'] = np.round(df_preco_maximo['Preço Máximo'], 2)\n",
    "\n",
    "# Plotagem do Gráfico\n",
    "grafico_preco_maximo_hm = sns.barplot(x=df_preco_maximo['Modelo de Calça'], y=df_preco_maximo['Preço Máximo'], data=df_preco_maximo);\n",
    "\n",
    "# Título do Gráfico\n",
    "plt.title('Preço Máximo do Modelo das Calças da H&M');\n",
    "plt.ylabel('Preço Máximo - US$')\n",
    "show_values(grafico_preco_maximo_hm)"
   ]
  },
  {
   "cell_type": "markdown",
   "id": "a23da6cc",
   "metadata": {
    "heading_collapsed": true
   },
   "source": [
    "## 2.3 - Preço Mínimo do Modelo das Calças"
   ]
  },
  {
   "cell_type": "code",
   "execution_count": 70,
   "id": "f697b0a9",
   "metadata": {
    "ExecuteTime": {
     "end_time": "2023-02-11T16:33:30.679221Z",
     "start_time": "2023-02-11T16:33:30.485704Z"
    },
    "hidden": true
   },
   "outputs": [
    {
     "data": {
      "image/png": "[encoded data removed]",
      "text/plain": [
       "<Figure size 1728x648 with 1 Axes>"
      ]
     },
     "metadata": {},
     "output_type": "display_data"
    }
   ],
   "source": [
    "# Agrupar os preços e obter o preço médio.\n",
    "df_preco_minimo = (df2[['fit', 'product_price']].groupby('fit')\n",
    "                                               .min()\n",
    "                                               .reset_index()\n",
    "                                               .rename(columns = {'fit':'Modelo de Calça', 'product_price':'Preço Minimo'}))\n",
    "\n",
    "# Ajuste da coluna de preço\n",
    "df_preco_minimo['Preço Minimo'] = np.round(df_preco_minimo['Preço Minimo'], 2)\n",
    "\n",
    "# Plotagem do Gráfico\n",
    "grafico_preco_minimo_hm = sns.barplot(x=df_preco_minimo['Modelo de Calça'], y=df_preco_minimo['Preço Minimo'], data=df_preco_minimo);\n",
    "\n",
    "# Título do Gráfico\n",
    "plt.title('Preço Minimo do Modelo das Calças da H&M');\n",
    "plt.ylabel('Preço Mínimo - US$')\n",
    "\n",
    "show_values(grafico_preco_minimo_hm)"
   ]
  },
  {
   "cell_type": "markdown",
   "id": "cb797624",
   "metadata": {},
   "source": [
    "## 2.4 - Distribuição dos Preços das Calças da H&M"
   ]
  },
  {
   "cell_type": "code",
   "execution_count": 69,
   "id": "4df8cc90",
   "metadata": {
    "ExecuteTime": {
     "end_time": "2023-02-11T16:32:04.558269Z",
     "start_time": "2023-02-11T16:32:04.340885Z"
    }
   },
   "outputs": [
    {
     "data": {
      "image/png": "[encoded data removed]",
      "text/plain": [
       "<Figure size 1728x648 with 1 Axes>"
      ]
     },
     "metadata": {},
     "output_type": "display_data"
    }
   ],
   "source": [
    "# Seleção dos Dados\n",
    "df_historgrama_loose_fit = df2[['fit', 'product_price']].copy()\n",
    "\n",
    "# Plotagem do Gráfico\n",
    "histograma_loose_fit = sns.histplot(df_historgrama_loose_fit['product_price'], bins=20);\n",
    "\n",
    "# Nomeação dos eixos\n",
    "plt.ylabel('Contagem das Calças');\n",
    "plt.xlabel('Preços dos Produtos');\n",
    "plt.title(\"Distribuição dos Preços das Calças da H&M\");"
   ]
  }
 ],
 "metadata": {
  "kernelspec": {
   "display_name": "Python 3 (ipykernel)",
   "language": "python",
   "name": "python3"
  },
  "language_info": {
   "codemirror_mode": {
    "name": "ipython",
    "version": 3
   },
   "file_extension": ".py",
   "mimetype": "text/x-python",
   "name": "python",
   "nbconvert_exporter": "python",
   "pygments_lexer": "ipython3",
   "version": "3.9.12"
  }
 },
 "nbformat": 4,
 "nbformat_minor": 5
}
