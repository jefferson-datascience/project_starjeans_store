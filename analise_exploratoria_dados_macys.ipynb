{
 "cells": [
  {
   "cell_type": "markdown",
   "id": "c0de7b5c",
   "metadata": {
    "heading_collapsed": true
   },
   "source": [
    "# 0.0 - Imports\n"
   ]
  },
  {
   "cell_type": "code",
   "execution_count": 13,
   "id": "48680430",
   "metadata": {
    "ExecuteTime": {
     "end_time": "2023-02-11T16:17:22.593402Z",
     "start_time": "2023-02-11T16:17:22.580418Z"
    },
    "hidden": true
   },
   "outputs": [],
   "source": [
    "# Bibliotecas\n",
    "\n",
    "import pandas  as pd\n",
    "import numpy   as np\n",
    "import seaborn as sns\n",
    "\n",
    "from matplotlib      import pyplot as plt\n",
    "from IPython.display import HTML"
   ]
  },
  {
   "cell_type": "markdown",
   "id": "e30e94ab",
   "metadata": {
    "heading_collapsed": true,
    "hidden": true
   },
   "source": [
    "## 0.1 - Helper Functions"
   ]
  },
  {
   "cell_type": "code",
   "execution_count": 14,
   "id": "24c04cf3",
   "metadata": {
    "ExecuteTime": {
     "end_time": "2023-02-11T16:17:23.065738Z",
     "start_time": "2023-02-11T16:17:23.029868Z"
    },
    "hidden": true
   },
   "outputs": [
    {
     "data": {
      "text/html": [
       "<style>.container {width:93% ! important; }</style>"
      ],
      "text/plain": [
       "<IPython.core.display.HTML object>"
      ]
     },
     "metadata": {},
     "output_type": "display_data"
    }
   ],
   "source": [
    "# Configurações de Layout\n",
    "def jupyter_settings():\n",
    "    %matplotlib inline\n",
    "    #%pylab inline\n",
    "    \n",
    "    plt.style.use('ggplot')\n",
    "    plt.rcParams['figure.figsize'] = (24,9)\n",
    "    plt.rcParams['font.size'] = 24\n",
    "    \n",
    "    display( HTML('<style>.container {width:93% ! important; }</style>') )\n",
    "    pd.options.display.max_columns = None\n",
    "    pd.options.display.max_rows = None\n",
    "    pd.set_option('display.expand_frame_repr', False)\n",
    "    \n",
    "    sns.set()\n",
    "    \n",
    "jupyter_settings()\n",
    "\n",
    "def show_values(axs, orient=\"v\", space=.01):\n",
    "    def _single(ax):\n",
    "        if orient == \"v\":\n",
    "            for p in ax.patches:\n",
    "                _x = p.get_x() + p.get_width() / 2\n",
    "                _y = p.get_y() + p.get_height() + (p.get_height()*0.01)\n",
    "                value = '{:.1f}'.format(p.get_height())\n",
    "                ax.text(_x, _y, value, ha=\"center\") \n",
    "        elif orient == \"h\":\n",
    "            for p in ax.patches:\n",
    "                _x = p.get_x() + p.get_width() + float(space)\n",
    "                _y = p.get_y() + p.get_height() - (p.get_height()*0.5)\n",
    "                value = '{:.1f}'.format(p.get_width())\n",
    "                ax.text(_x, _y, value, ha=\"left\")\n",
    "\n",
    "    if isinstance(axs, np.ndarray):\n",
    "        for idx, ax in np.ndenumerate(axs):\n",
    "            _single(ax)\n",
    "    else:\n",
    "        _single(axs)"
   ]
  },
  {
   "cell_type": "markdown",
   "id": "b026a457",
   "metadata": {
    "heading_collapsed": true,
    "hidden": true
   },
   "source": [
    "## 0.2 - Carregamento dos Dados"
   ]
  },
  {
   "cell_type": "code",
   "execution_count": 15,
   "id": "a1cc8bcf",
   "metadata": {
    "ExecuteTime": {
     "end_time": "2023-02-11T16:17:24.416453Z",
     "start_time": "2023-02-11T16:17:24.372570Z"
    },
    "hidden": true
   },
   "outputs": [
    {
     "data": {
      "text/html": [
       "<div>\n",
       "<style scoped>\n",
       "    .dataframe tbody tr th:only-of-type {\n",
       "        vertical-align: middle;\n",
       "    }\n",
       "\n",
       "    .dataframe tbody tr th {\n",
       "        vertical-align: top;\n",
       "    }\n",
       "\n",
       "    .dataframe thead th {\n",
       "        text-align: right;\n",
       "    }\n",
       "</style>\n",
       "<table border=\"1\" class=\"dataframe\">\n",
       "  <thead>\n",
       "    <tr style=\"text-align: right;\">\n",
       "      <th></th>\n",
       "      <th>product_id</th>\n",
       "      <th>product_name</th>\n",
       "      <th>price</th>\n",
       "      <th>color</th>\n",
       "      <th>fit</th>\n",
       "      <th>size</th>\n",
       "      <th>cotton</th>\n",
       "      <th>polyester</th>\n",
       "      <th>spandex</th>\n",
       "      <th>elastane</th>\n",
       "      <th>lyocell</th>\n",
       "      <th>viscose</th>\n",
       "      <th>scrapy_datetime</th>\n",
       "    </tr>\n",
       "  </thead>\n",
       "  <tbody>\n",
       "    <tr>\n",
       "      <th>0</th>\n",
       "      <td>2834394</td>\n",
       "      <td>men's 502™ taper jeans</td>\n",
       "      <td>55.65</td>\n",
       "      <td>true_chino</td>\n",
       "      <td>regular_fit</td>\n",
       "      <td>28x30</td>\n",
       "      <td>yes</td>\n",
       "      <td>no</td>\n",
       "      <td>no</td>\n",
       "      <td>yes</td>\n",
       "      <td>yes</td>\n",
       "      <td>no</td>\n",
       "      <td>2022-08-20 09:38:17</td>\n",
       "    </tr>\n",
       "    <tr>\n",
       "      <th>1</th>\n",
       "      <td>2834394</td>\n",
       "      <td>men's 502™ taper jeans</td>\n",
       "      <td>55.65</td>\n",
       "      <td>true_chino</td>\n",
       "      <td>regular_fit</td>\n",
       "      <td>28x32</td>\n",
       "      <td>yes</td>\n",
       "      <td>no</td>\n",
       "      <td>no</td>\n",
       "      <td>yes</td>\n",
       "      <td>yes</td>\n",
       "      <td>no</td>\n",
       "      <td>2022-08-20 09:38:17</td>\n",
       "    </tr>\n",
       "    <tr>\n",
       "      <th>2</th>\n",
       "      <td>2834394</td>\n",
       "      <td>men's 502™ taper jeans</td>\n",
       "      <td>55.65</td>\n",
       "      <td>true_chino</td>\n",
       "      <td>regular_fit</td>\n",
       "      <td>29x30</td>\n",
       "      <td>yes</td>\n",
       "      <td>no</td>\n",
       "      <td>no</td>\n",
       "      <td>yes</td>\n",
       "      <td>yes</td>\n",
       "      <td>no</td>\n",
       "      <td>2022-08-20 09:38:17</td>\n",
       "    </tr>\n",
       "    <tr>\n",
       "      <th>3</th>\n",
       "      <td>2834394</td>\n",
       "      <td>men's 502™ taper jeans</td>\n",
       "      <td>55.65</td>\n",
       "      <td>true_chino</td>\n",
       "      <td>regular_fit</td>\n",
       "      <td>29x32</td>\n",
       "      <td>yes</td>\n",
       "      <td>no</td>\n",
       "      <td>no</td>\n",
       "      <td>yes</td>\n",
       "      <td>yes</td>\n",
       "      <td>no</td>\n",
       "      <td>2022-08-20 09:38:17</td>\n",
       "    </tr>\n",
       "    <tr>\n",
       "      <th>4</th>\n",
       "      <td>2834394</td>\n",
       "      <td>men's 502™ taper jeans</td>\n",
       "      <td>55.65</td>\n",
       "      <td>true_chino</td>\n",
       "      <td>regular_fit</td>\n",
       "      <td>30x30</td>\n",
       "      <td>yes</td>\n",
       "      <td>no</td>\n",
       "      <td>no</td>\n",
       "      <td>yes</td>\n",
       "      <td>yes</td>\n",
       "      <td>no</td>\n",
       "      <td>2022-08-20 09:38:17</td>\n",
       "    </tr>\n",
       "  </tbody>\n",
       "</table>\n",
       "</div>"
      ],
      "text/plain": [
       "   product_id            product_name  price       color          fit   size cotton polyester spandex elastane lyocell viscose      scrapy_datetime\n",
       "0     2834394  men's 502™ taper jeans  55.65  true_chino  regular_fit  28x30    yes        no      no      yes     yes      no  2022-08-20 09:38:17\n",
       "1     2834394  men's 502™ taper jeans  55.65  true_chino  regular_fit  28x32    yes        no      no      yes     yes      no  2022-08-20 09:38:17\n",
       "2     2834394  men's 502™ taper jeans  55.65  true_chino  regular_fit  29x30    yes        no      no      yes     yes      no  2022-08-20 09:38:17\n",
       "3     2834394  men's 502™ taper jeans  55.65  true_chino  regular_fit  29x32    yes        no      no      yes     yes      no  2022-08-20 09:38:17\n",
       "4     2834394  men's 502™ taper jeans  55.65  true_chino  regular_fit  30x30    yes        no      no      yes     yes      no  2022-08-20 09:38:17"
      ]
     },
     "execution_count": 15,
     "metadata": {},
     "output_type": "execute_result"
    }
   ],
   "source": [
    "# Carregamento dos Dados\n",
    "df_raw = pd.read_csv('vitrine_macys.csv')\n",
    "\n",
    "# Exibição\n",
    "df_raw.head()"
   ]
  },
  {
   "cell_type": "markdown",
   "id": "f2f16649",
   "metadata": {
    "heading_collapsed": true
   },
   "source": [
    "# 1.0 - Descrição dos Dados"
   ]
  },
  {
   "cell_type": "code",
   "execution_count": 3,
   "id": "00ecc033",
   "metadata": {
    "ExecuteTime": {
     "end_time": "2023-02-11T16:01:22.282182Z",
     "start_time": "2023-02-11T16:01:22.269215Z"
    },
    "hidden": true
   },
   "outputs": [],
   "source": [
    "df1 = df_raw.copy()"
   ]
  },
  {
   "cell_type": "markdown",
   "id": "3e7d3a36",
   "metadata": {
    "heading_collapsed": true,
    "hidden": true
   },
   "source": [
    "## 1.1 - Atributos"
   ]
  },
  {
   "cell_type": "markdown",
   "id": "03a9682e",
   "metadata": {
    "hidden": true
   },
   "source": [
    "**product_id** - Identificador do produto na Macys.\n",
    "\n",
    "**product_name** - Nome do produto.\n",
    "\n",
    "**price** - Preço do produto.\n",
    "\n",
    "**color** - Cor do produto.\n",
    "\n",
    "**fit** - Modelo do produto.\n",
    "\n",
    "**size** - Tamanho da Calça.\n",
    "\n",
    "**cotton** - Yes: Possui algodão na composição da calça; No: Não Possui algodão na composição da calça.\n",
    "\n",
    "**polyester** - Yes: Possui poliester na composição da calça; No: Não Possui poliester na composição da calça.\n",
    "\n",
    "**spandex** - Yes: Possui spandex na composição da calça; No: Não Possui spandex na composição da calça.\n",
    "\n",
    "**elastane** - Yes: Possui elastano na composição da calça; No: Não Possui elastano na composição da calça.\n",
    "\n",
    "**lyocell** - Yes: Possui lyocell na composição da calça; No: Não Possui lyocell na composição da calça.\n",
    "\n",
    "**viscose** - Yes: Possui viscose na composição da calça; No: Não Possui viscose na composição da calça."
   ]
  },
  {
   "cell_type": "markdown",
   "id": "16db16e0",
   "metadata": {
    "heading_collapsed": true,
    "hidden": true
   },
   "source": [
    "## 1.2 - Dimensão dos Dados"
   ]
  },
  {
   "cell_type": "code",
   "execution_count": 16,
   "id": "674c10d7",
   "metadata": {
    "ExecuteTime": {
     "end_time": "2023-02-11T16:17:28.919125Z",
     "start_time": "2023-02-11T16:17:28.911150Z"
    },
    "hidden": true
   },
   "outputs": [
    {
     "name": "stdout",
     "output_type": "stream",
     "text": [
      "Quantidade de Linhas: 3450\n",
      "Quantidade de Colunas: 13\n"
     ]
    }
   ],
   "source": [
    "print('Quantidade de Linhas: {}'.format(df1.shape[0]))\n",
    "print('Quantidade de Colunas: {}'.format(df1.shape[1]))"
   ]
  },
  {
   "cell_type": "markdown",
   "id": "060ad2d1",
   "metadata": {
    "heading_collapsed": true,
    "hidden": true
   },
   "source": [
    "## 1.3 - Estatística Descritica"
   ]
  },
  {
   "cell_type": "code",
   "execution_count": 17,
   "id": "a7796162",
   "metadata": {
    "ExecuteTime": {
     "end_time": "2023-02-11T16:17:29.582430Z",
     "start_time": "2023-02-11T16:17:29.539510Z"
    },
    "hidden": true
   },
   "outputs": [
    {
     "data": {
      "text/html": [
       "<div>\n",
       "<style scoped>\n",
       "    .dataframe tbody tr th:only-of-type {\n",
       "        vertical-align: middle;\n",
       "    }\n",
       "\n",
       "    .dataframe tbody tr th {\n",
       "        vertical-align: top;\n",
       "    }\n",
       "\n",
       "    .dataframe thead th {\n",
       "        text-align: right;\n",
       "    }\n",
       "</style>\n",
       "<table border=\"1\" class=\"dataframe\">\n",
       "  <thead>\n",
       "    <tr style=\"text-align: right;\">\n",
       "      <th></th>\n",
       "      <th>atributos</th>\n",
       "      <th>minimo</th>\n",
       "      <th>maximo</th>\n",
       "      <th>intervalo</th>\n",
       "      <th>media</th>\n",
       "      <th>mediana</th>\n",
       "      <th>desvio_padrao</th>\n",
       "      <th>skewness</th>\n",
       "      <th>kurtosis</th>\n",
       "    </tr>\n",
       "  </thead>\n",
       "  <tbody>\n",
       "    <tr>\n",
       "      <th>0</th>\n",
       "      <td>price</td>\n",
       "      <td>20.0</td>\n",
       "      <td>150.0</td>\n",
       "      <td>130.0</td>\n",
       "      <td>58.029545</td>\n",
       "      <td>50.0</td>\n",
       "      <td>22.053218</td>\n",
       "      <td>1.097929</td>\n",
       "      <td>1.408993</td>\n",
       "    </tr>\n",
       "  </tbody>\n",
       "</table>\n",
       "</div>"
      ],
      "text/plain": [
       "  atributos  minimo  maximo  intervalo      media  mediana  desvio_padrao  skewness  kurtosis\n",
       "0     price    20.0   150.0      130.0  58.029545     50.0      22.053218  1.097929  1.408993"
      ]
     },
     "execution_count": 17,
     "metadata": {},
     "output_type": "execute_result"
    }
   ],
   "source": [
    "# Selecionando somente os atributos numéricos\n",
    "num_attributes = df1.select_dtypes(include=['int64', 'float64']).copy()\n",
    "\n",
    "num_attributes = num_attributes[['price']].copy()\n",
    "\n",
    "# ------------ Tendências Centrais -----------------------------------\n",
    "\n",
    "# Média\n",
    "mean = pd.DataFrame(num_attributes.apply(np.mean)).T\n",
    "\n",
    "# Mediana\n",
    "median = pd.DataFrame(num_attributes.apply(np.median)).T\n",
    "\n",
    "\n",
    "# ------------ Tendências de Dispersão -------------------------------\n",
    "\n",
    "# Máximo\n",
    "maximo = pd.DataFrame(num_attributes.apply(np.max)).T\n",
    "\n",
    "# Mínimo\n",
    "minimo = pd.DataFrame(num_attributes.apply(np.min)).T\n",
    "\n",
    "# Intervalo(Range)\n",
    "intervalo = pd.DataFrame(num_attributes.apply(lambda x: x.max() - x.min())).T\n",
    "\n",
    "# Desvio Padrão\n",
    "desvio = pd.DataFrame(num_attributes.apply(np.std)).T\n",
    "\n",
    "# Skewness\n",
    "skew = pd.DataFrame(num_attributes.apply(lambda x: x.skew())).T\n",
    "\n",
    "# Kurtosis\n",
    "kurtosis = pd.DataFrame(num_attributes.apply(lambda x: x.kurtosis())).T\n",
    "\n",
    "\n",
    "# ---------------------- Construção da Tabela de Estatística Descritiva -------------------------------\n",
    "\n",
    "# Concatenação das Tabela\n",
    "tabela_descritiva = pd.concat([minimo, maximo, intervalo, mean, median, desvio, skew, kurtosis]).T.reset_index()\n",
    "tabela_descritiva.columns = ['atributos', 'minimo', 'maximo', 'intervalo', 'media', \n",
    "                             'mediana', 'desvio_padrao', 'skewness', 'kurtosis']\n",
    "\n",
    "# Exibição da tabela descritiva\n",
    "tabela_descritiva"
   ]
  },
  {
   "cell_type": "markdown",
   "id": "82eb5590",
   "metadata": {
    "heading_collapsed": true
   },
   "source": [
    "# 2.0 - Análise Explotatória dos Dados "
   ]
  },
  {
   "cell_type": "code",
   "execution_count": 8,
   "id": "72f3e7af",
   "metadata": {
    "ExecuteTime": {
     "end_time": "2023-02-11T16:16:25.418714Z",
     "start_time": "2023-02-11T16:16:25.408776Z"
    },
    "hidden": true
   },
   "outputs": [],
   "source": [
    "df2 = df1.copy()"
   ]
  },
  {
   "cell_type": "markdown",
   "id": "53e89244",
   "metadata": {
    "heading_collapsed": true,
    "hidden": true
   },
   "source": [
    "## 2.1 - Preço Médio dos Modelo das Calças"
   ]
  },
  {
   "cell_type": "code",
   "execution_count": 38,
   "id": "6622f345",
   "metadata": {
    "ExecuteTime": {
     "end_time": "2023-02-11T16:39:18.227182Z",
     "start_time": "2023-02-11T16:39:18.019770Z"
    },
    "hidden": true
   },
   "outputs": [
    {
     "data": {
      "image/png": "[encoded data removed]",
      "text/plain": [
       "<Figure size 1728x648 with 1 Axes>"
      ]
     },
     "metadata": {},
     "output_type": "display_data"
    }
   ],
   "source": [
    "# Agrupar os preços e obter o preço médio.\n",
    "df_preco_medio = (df2[['fit', 'price']].groupby('fit')\n",
    "                                               .mean()\n",
    "                                               .reset_index()\n",
    "                                               .rename(columns = {'fit':'Modelo de Calça', 'price':'Preço Médio'}))\n",
    "\n",
    "# Ajuste da coluna de preço\n",
    "df_preco_medio['Preço Médio'] = np.round(df_preco_medio['Preço Médio'], 2)\n",
    "\n",
    "# Plotagem do Gráfico\n",
    "grafico_preco_mediano_hm = sns.barplot(x=df_preco_medio['Modelo de Calça'], y=df_preco_medio['Preço Médio'], data=df_preco_medio);\n",
    "\n",
    "# Título do Gráfico\n",
    "plt.title('Preço Médio do Modelo das Calças da Macys');\n",
    "plt.ylabel('Preço Médio - US$')\n",
    "show_values(grafico_preco_mediano_hm)"
   ]
  },
  {
   "cell_type": "markdown",
   "id": "99d41e2d",
   "metadata": {
    "heading_collapsed": true,
    "hidden": true
   },
   "source": [
    "## 2.2 - Preço Máximo do Modelo das Calças"
   ]
  },
  {
   "cell_type": "code",
   "execution_count": 37,
   "id": "da8bfd20",
   "metadata": {
    "ExecuteTime": {
     "end_time": "2023-02-11T16:38:48.914509Z",
     "start_time": "2023-02-11T16:38:48.717071Z"
    },
    "hidden": true
   },
   "outputs": [
    {
     "data": {
      "image/png": "[encoded data removed]",
      "text/plain": [
       "<Figure size 1728x648 with 1 Axes>"
      ]
     },
     "metadata": {},
     "output_type": "display_data"
    }
   ],
   "source": [
    "# Agrupar os preços e obter o preço máximo.\n",
    "df_preco_maximo = (df2[['fit', 'price']].groupby('fit')\n",
    "                                               .max()\n",
    "                                               .reset_index()\n",
    "                                               .rename(columns = {'fit':'Modelo de Calça', 'price':'Preço Máximo'}))\n",
    "\n",
    "# Ajuste da coluna de preço\n",
    "df_preco_maximo['Preço Máximo'] = np.round(df_preco_maximo['Preço Máximo'], 2)\n",
    "\n",
    "# Plotagem do Gráfico\n",
    "grafico_preco_maximo_hm = sns.barplot(x=df_preco_maximo['Modelo de Calça'], y=df_preco_maximo['Preço Máximo'], data=df_preco_maximo);\n",
    "\n",
    "# Título do Gráfico\n",
    "plt.title('Preço Máximo do Modelo das Calças da Macys');\n",
    "plt.ylabel('Preço Máximo - US$')\n",
    "show_values(grafico_preco_maximo_hm)"
   ]
  },
  {
   "cell_type": "markdown",
   "id": "fe214b50",
   "metadata": {
    "heading_collapsed": true,
    "hidden": true
   },
   "source": [
    "## 2.3 - Preço Mínimo dos Modelos das Calças"
   ]
  },
  {
   "cell_type": "code",
   "execution_count": 35,
   "id": "18da6805",
   "metadata": {
    "ExecuteTime": {
     "end_time": "2023-02-11T16:37:53.447611Z",
     "start_time": "2023-02-11T16:37:53.102531Z"
    },
    "hidden": true
   },
   "outputs": [
    {
     "data": {
      "image/png": "[encoded data removed]",
      "text/plain": [
       "<Figure size 1728x648 with 1 Axes>"
      ]
     },
     "metadata": {},
     "output_type": "display_data"
    }
   ],
   "source": [
    "# Agrupar os preços e obter o preço mínimo.\n",
    "df_preco_minimo = (df2[['fit', 'price']].groupby('fit')\n",
    "                                               .min()\n",
    "                                               .reset_index()\n",
    "                                               .rename(columns = {'fit':'Modelo de Calça', 'price':'Preço Minimo'}))\n",
    "\n",
    "# Ajuste da coluna de preço\n",
    "df_preco_minimo['Preço Minimo'] = np.round(df_preco_minimo['Preço Minimo'], 2)\n",
    "\n",
    "# Plotagem do Gráfico\n",
    "grafico_preco_minimo_hm = sns.barplot(x=df_preco_minimo['Modelo de Calça'], y=df_preco_minimo['Preço Minimo'], data=df_preco_minimo);\n",
    "\n",
    "# Título do Gráfico\n",
    "plt.title('Preço Minimo do Modelo das Calças da Macys');\n",
    "plt.ylabel('Preço Mínimo - US$')\n",
    "show_values(grafico_preco_minimo_hm)"
   ]
  },
  {
   "cell_type": "markdown",
   "id": "3e884205",
   "metadata": {
    "heading_collapsed": true,
    "hidden": true
   },
   "source": [
    "## 2.4 - Ditribuição dos Preços da Calças da Macys"
   ]
  },
  {
   "cell_type": "code",
   "execution_count": 34,
   "id": "76a6d581",
   "metadata": {
    "ExecuteTime": {
     "end_time": "2023-02-11T16:37:03.319725Z",
     "start_time": "2023-02-11T16:37:03.084352Z"
    },
    "hidden": true
   },
   "outputs": [
    {
     "data": {
      "image/png": "[encoded data removed]",
      "text/plain": [
       "<Figure size 1728x648 with 1 Axes>"
      ]
     },
     "metadata": {},
     "output_type": "display_data"
    }
   ],
   "source": [
    "# Seleção dos Dados\n",
    "df_historgrama = df2[['fit', 'price']].copy()\n",
    "\n",
    "# Plotagem do Gráfico\n",
    "histograma = sns.histplot(df_historgrama['price'], bins=20);\n",
    "\n",
    "# Nomeação dos eixos\n",
    "plt.ylabel('Contagem das Calças');\n",
    "plt.xlabel('Preços dos Produtos - US$');\n",
    "plt.title(\"Distribuição dos Preços das Calças da Macys\");"
   ]
  },
  {
   "cell_type": "code",
   "execution_count": null,
   "id": "100bc55f",
   "metadata": {
    "hidden": true
   },
   "outputs": [],
   "source": []
  }
 ],
 "metadata": {
  "kernelspec": {
   "display_name": "Python 3 (ipykernel)",
   "language": "python",
   "name": "python3"
  },
  "language_info": {
   "codemirror_mode": {
    "name": "ipython",
    "version": 3
   },
   "file_extension": ".py",
   "mimetype": "text/x-python",
   "name": "python",
   "nbconvert_exporter": "python",
   "pygments_lexer": "ipython3",
   "version": "3.9.12"
  }
 },
 "nbformat": 4,
 "nbformat_minor": 5
}
