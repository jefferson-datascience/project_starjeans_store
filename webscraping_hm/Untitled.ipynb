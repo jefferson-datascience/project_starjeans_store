{
 "cells": [
  {
   "cell_type": "code",
   "execution_count": 1,
   "id": "46328249",
   "metadata": {
    "ExecuteTime": {
     "end_time": "2022-08-23T15:46:36.300345Z",
     "start_time": "2022-08-23T15:46:35.495497Z"
    }
   },
   "outputs": [],
   "source": [
    "import pandas as pd\n",
    "import numpy as np\n",
    "from sqlalchemy import create_engine"
   ]
  },
  {
   "cell_type": "code",
   "execution_count": 2,
   "id": "64bb9c2f",
   "metadata": {
    "ExecuteTime": {
     "end_time": "2022-08-23T15:47:00.274549Z",
     "start_time": "2022-08-23T15:47:00.247618Z"
    }
   },
   "outputs": [],
   "source": [
    "conexao = create_engine('sqlite:///database_hm.sqlite')"
   ]
  },
  {
   "cell_type": "code",
   "execution_count": 3,
   "id": "4825a1e9",
   "metadata": {
    "ExecuteTime": {
     "end_time": "2022-08-23T15:47:28.189028Z",
     "start_time": "2022-08-23T15:47:28.163096Z"
    }
   },
   "outputs": [],
   "source": [
    "query = \"\"\"SELECT * FROM vitrine\"\"\"\n",
    "\n",
    "df = pd.read_sql_query(query, con = conexao)"
   ]
  },
  {
   "cell_type": "code",
   "execution_count": 5,
   "id": "262f4a01",
   "metadata": {
    "ExecuteTime": {
     "end_time": "2022-08-23T15:47:39.984013Z",
     "start_time": "2022-08-23T15:47:39.895836Z"
    }
   },
   "outputs": [
    {
     "data": {
      "text/plain": [
       "array(['2022-08-20 16:48:24', '2022-08-21 11:03:30',\n",
       "       '2022-08-22 12:22:05', '2022-08-23 11:03:38'], dtype=object)"
      ]
     },
     "execution_count": 5,
     "metadata": {},
     "output_type": "execute_result"
    }
   ],
   "source": [
    "df['scrapy_datetime'].unique()"
   ]
  },
  {
   "cell_type": "code",
   "execution_count": null,
   "id": "9302f61f",
   "metadata": {},
   "outputs": [],
   "source": []
  }
 ],
 "metadata": {
  "kernelspec": {
   "display_name": "Python 3 (ipykernel)",
   "language": "python",
   "name": "python3"
  },
  "language_info": {
   "codemirror_mode": {
    "name": "ipython",
    "version": 3
   },
   "file_extension": ".py",
   "mimetype": "text/x-python",
   "name": "python",
   "nbconvert_exporter": "python",
   "pygments_lexer": "ipython3",
   "version": "3.9.12"
  }
 },
 "nbformat": 4,
 "nbformat_minor": 5
}
